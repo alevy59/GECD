{
 "cells": [
  {
   "cell_type": "code",
   "execution_count": 6,
   "metadata": {},
   "outputs": [
    {
     "name": "stdout",
     "output_type": "stream",
     "text": [
      "b'<html>\\n<head>\\n<title>A Useful Page</title>\\n</head>\\n<body>\\n<h1>An Interesting Title</h1>\\n<div>\\nLorem ipsum dolor sit amet, consectetur adipisicing elit, sed do eiusmod tempor incididunt ut labore et dolore magna aliqua. Ut enim ad minim veniam, quis nostrud exercitation ullamco laboris nisi ut aliquip ex ea commodo consequat. Duis aute irure dolor in reprehenderit in voluptate velit esse cillum dolore eu fugiat nulla pariatur. Excepteur sint occaecat cupidatat non proident, sunt in culpa qui officia deserunt mollit anim id est laborum.\\n</div>\\n</body>\\n</html>\\n'\n"
     ]
    }
   ],
   "source": [
    "from urllib.request import urlopen\n",
    "\n",
    "html = urlopen('http://www.pythonscraping.com/pages/page1.html')\n",
    "print(html.read())"
   ]
  },
  {
   "cell_type": "code",
   "execution_count": 1,
   "metadata": {},
   "outputs": [
    {
     "name": "stdout",
     "output_type": "stream",
     "text": [
      "<h1>An Interesting Title</h1>\n"
     ]
    }
   ],
   "source": [
    "from urllib.request import urlopen\n",
    "from bs4 import BeautifulSoup\n",
    "\n",
    "html = urlopen('http://www.pythonscraping.com/pages/page1.html')\n",
    "bs = BeautifulSoup(html.read(), 'html.parser')\n",
    "print(bs.h1)\n"
   ]
  },
  {
   "cell_type": "code",
   "execution_count": 4,
   "metadata": {},
   "outputs": [
    {
     "name": "stdout",
     "output_type": "stream",
     "text": [
      "<h1>War and Peace</h1>\n"
     ]
    }
   ],
   "source": [
    "from urllib.request import urlopen\n",
    "from bs4 import BeautifulSoup\n",
    "\n",
    "html = urlopen('http://www.pythonscraping.com/pages/warandpeace.html')\n",
    "bs = BeautifulSoup(html.read(), 'html.parser')\n",
    "print(bs.h1)"
   ]
  },
  {
   "cell_type": "code",
   "execution_count": 7,
   "metadata": {},
   "outputs": [
    {
     "name": "stdout",
     "output_type": "stream",
     "text": [
      "<h2>Chapter 1</h2>\n",
      "Chapter 1\n"
     ]
    }
   ],
   "source": [
    "print(bs.h2)\n",
    "print(bs.h2.text)"
   ]
  },
  {
   "cell_type": "code",
   "execution_count": 9,
   "metadata": {},
   "outputs": [
    {
     "name": "stdout",
     "output_type": "stream",
     "text": [
      "Anna\n",
      "Pavlovna Scherer\n",
      "Empress Marya\n",
      "Fedorovna\n",
      "Prince Vasili Kuragin\n",
      "Anna Pavlovna\n",
      "St. Petersburg\n",
      "the prince\n",
      "Anna Pavlovna\n",
      "Anna Pavlovna\n",
      "the prince\n",
      "the prince\n",
      "the prince\n",
      "Prince Vasili\n",
      "Anna Pavlovna\n",
      "Anna Pavlovna\n",
      "the prince\n",
      "Wintzingerode\n",
      "King of Prussia\n",
      "le Vicomte de Mortemart\n",
      "Montmorencys\n",
      "Rohans\n",
      "Abbe Morio\n",
      "the Emperor\n",
      "the prince\n",
      "Prince Vasili\n",
      "Dowager Empress Marya Fedorovna\n",
      "the baron\n",
      "Anna Pavlovna\n",
      "the Empress\n",
      "the Empress\n",
      "Anna Pavlovna's\n",
      "Her Majesty\n",
      "Baron\n",
      "Funke\n",
      "The prince\n",
      "Anna\n",
      "Pavlovna\n",
      "the Empress\n",
      "The prince\n",
      "Anatole\n",
      "the prince\n",
      "The prince\n",
      "Anna\n",
      "Pavlovna\n",
      "Anna Pavlovna\n"
     ]
    }
   ],
   "source": [
    "nameList = bs.findAll('span', {'class': 'green'})\n",
    "for name in nameList:\n",
    "    print(name.get_text())"
   ]
  },
  {
   "cell_type": "code",
   "execution_count": 10,
   "metadata": {},
   "outputs": [
    {
     "name": "stdout",
     "output_type": "stream",
     "text": [
      "[<h1>War and Peace</h1>, <h2>Chapter 1</h2>]\n"
     ]
    }
   ],
   "source": [
    "titles = bs.find_all(['h1', 'h2','h3','h4','h5','h6'])\n",
    "print([title for title in titles])"
   ]
  },
  {
   "cell_type": "code",
   "execution_count": 11,
   "metadata": {},
   "outputs": [
    {
     "name": "stdout",
     "output_type": "stream",
     "text": [
      "7\n"
     ]
    }
   ],
   "source": [
    "princeList = bs.find_all(text='the prince')\n",
    "print(len(princeList))"
   ]
  },
  {
   "cell_type": "code",
   "execution_count": 14,
   "metadata": {},
   "outputs": [
    {
     "name": "stdout",
     "output_type": "stream",
     "text": [
      "[<span class=\"red\">Well, Prince, so Genoa and Lucca are now just family estates of the\n",
      "Buonapartes. But I warn you, if you don't tell me that this means war,\n",
      "if you still try to defend the infamies and horrors perpetrated by\n",
      "that Antichrist- I really believe he is Antichrist- I will have\n",
      "nothing more to do with you and you are no longer my friend, no longer\n",
      "my 'faithful slave,' as you call yourself! But how do you do? I see\n",
      "I have frightened you- sit down and tell me all the news.</span>, <span class=\"green\">Anna\n",
      "Pavlovna Scherer</span>, <span class=\"green\">Empress Marya\n",
      "Fedorovna</span>, <span class=\"green\">Prince Vasili Kuragin</span>, <span class=\"green\">Anna Pavlovna</span>, <span class=\"green\">St. Petersburg</span>, <span class=\"red\">If you have nothing better to do, Count [or Prince], and if the\n",
      "prospect of spending an evening with a poor invalid is not too\n",
      "terrible, I shall be very charmed to see you tonight between 7 and 10-\n",
      "Annette Scherer.</span>, <span class=\"red\">Heavens! what a virulent attack!</span>, <span class=\"green\">the prince</span>, <span class=\"green\">Anna Pavlovna</span>, <span class=\"red\">First of all, dear friend, tell me how you are. Set your friend's\n",
      "mind at rest,</span>, <span class=\"red\">Can one be well while suffering morally? Can one be calm in times\n",
      "like these if one has any feeling?</span>, <span class=\"green\">Anna Pavlovna</span>, <span class=\"red\">You are\n",
      "staying the whole evening, I hope?</span>, <span class=\"red\">And the fete at the English ambassador's? Today is Wednesday. I\n",
      "must put in an appearance there,</span>, <span class=\"green\">the prince</span>, <span class=\"red\">My daughter is\n",
      "coming for me to take me there.</span>, <span class=\"red\">I thought today's fete had been canceled. I confess all these\n",
      "festivities and fireworks are becoming wearisome.</span>, <span class=\"red\">If they had known that you wished it, the entertainment would\n",
      "have been put off,</span>, <span class=\"green\">the prince</span>, <span class=\"red\">Don't tease! Well, and what has been decided about Novosiltsev's\n",
      "dispatch? You know everything.</span>, <span class=\"red\">What can one say about it?</span>, <span class=\"green\">the prince</span>, <span class=\"red\">What has been decided? They have decided that\n",
      "Buonaparte has burnt his boats, and I believe that we are ready to\n",
      "burn ours.</span>, <span class=\"green\">Prince Vasili</span>, <span class=\"green\">Anna Pavlovna</span>, <span class=\"green\">Anna Pavlovna</span>, <span class=\"red\">Oh, don't speak to me of Austria. Perhaps I don't understand\n",
      "things, but Austria never has wished, and does not wish, for war.\n",
      "She is betraying us! Russia alone must save Europe. Our gracious\n",
      "sovereign recognizes his high vocation and will be true to it. That is\n",
      "the one thing I have faith in! Our good and wonderful sovereign has to\n",
      "perform the noblest role on earth, and he is so virtuous and noble\n",
      "that God will not forsake him. He will fulfill his vocation and\n",
      "crush the hydra of revolution, which has become more terrible than\n",
      "ever in the person of this murderer and villain! We alone must\n",
      "avenge the blood of the just one.... Whom, I ask you, can we rely\n",
      "on?... England with her commercial spirit will not and cannot\n",
      "understand the Emperor Alexander's loftiness of soul. She has\n",
      "refused to evacuate Malta. She wanted to find, and still seeks, some\n",
      "secret motive in our actions. What answer did Novosiltsev get? None.\n",
      "The English have not understood and cannot understand the\n",
      "self-abnegation of our Emperor who wants nothing for himself, but only\n",
      "desires the good of mankind. And what have they promised? Nothing! And\n",
      "what little they have promised they will not perform! Prussia has\n",
      "always declared that Buonaparte is invincible, and that all Europe\n",
      "is powerless before him.... And I don't believe a word that Hardenburg\n",
      "says, or Haugwitz either. This famous Prussian neutrality is just a\n",
      "trap. I have faith only in God and the lofty destiny of our adored\n",
      "monarch. He will save Europe!</span>, <span class=\"red\">I think,</span>, <span class=\"green\">the prince</span>, <span class=\"red\">that if you had been\n",
      "sent instead of our dear <span class=\"green\">Wintzingerode</span> you would have captured the\n",
      "<span class=\"green\">King of Prussia</span>'s consent by assault. You are so eloquent. Will you\n",
      "give me a cup of tea?</span>, <span class=\"green\">Wintzingerode</span>, <span class=\"green\">King of Prussia</span>, <span class=\"red\">In a moment. A propos,</span>, <span class=\"red\">I am\n",
      "expecting two very interesting men tonight, <span class=\"green\">le Vicomte de Mortemart</span>,\n",
      "who is connected with the <span class=\"green\">Montmorencys</span> through the <span class=\"green\">Rohans</span>, one of\n",
      "the best French families. He is one of the genuine emigres, the good\n",
      "ones. And also the <span class=\"green\">Abbe Morio</span>. Do you know that profound thinker? He\n",
      "has been received by <span class=\"green\">the Emperor</span>. Had you heard?</span>, <span class=\"green\">le Vicomte de Mortemart</span>, <span class=\"green\">Montmorencys</span>, <span class=\"green\">Rohans</span>, <span class=\"green\">Abbe Morio</span>, <span class=\"green\">the Emperor</span>, <span class=\"red\">I shall be delighted to meet them,</span>, <span class=\"green\">the prince</span>, <span class=\"red\">But tell me,</span>, <span class=\"red\">is it true that the Dowager Empress wants Baron Funke\n",
      "to be appointed first secretary at Vienna? The baron by all accounts\n",
      "is a poor creature.</span>, <span class=\"green\">Prince Vasili</span>, <span class=\"green\">Dowager Empress Marya Fedorovna</span>, <span class=\"green\">the baron</span>, <span class=\"green\">Anna Pavlovna</span>, <span class=\"green\">the Empress</span>, <span class=\"red\">Baron Funke has been recommended to the Dowager Empress by her\n",
      "sister,</span>, <span class=\"green\">the Empress</span>, <span class=\"green\">Anna Pavlovna's</span>, <span class=\"green\">Her Majesty</span>, <span class=\"green\">Baron\n",
      "Funke</span>, <span class=\"green\">The prince</span>, <span class=\"green\">Anna\n",
      "Pavlovna</span>, <span class=\"green\">the Empress</span>, <span class=\"red\">Now about your family. Do you know that since your daughter came\n",
      "out everyone has been enraptured by her? They say she is amazingly\n",
      "beautiful.</span>, <span class=\"green\">The prince</span>, <span class=\"red\">I often think,</span>, <span class=\"red\">I often think how unfairly sometimes the\n",
      "joys of life are distributed. Why has fate given you two such splendid\n",
      "children? I don't speak of <span class=\"green\">Anatole</span>, your youngest. I don't like\n",
      "him,</span>, <span class=\"green\">Anatole</span>, <span class=\"red\">Two such charming children. And really you appreciate\n",
      "them less than anyone, and so you don't deserve to have them.</span>, <span class=\"red\">I can't help it,</span>, <span class=\"green\">the prince</span>, <span class=\"red\">Lavater would have said I\n",
      "lack the bump of paternity.</span>, <span class=\"red\">Don't joke; I mean to have a serious talk with you. Do you know I\n",
      "am dissatisfied with your younger son? Between ourselves</span>, <span class=\"red\">he was mentioned at Her\n",
      "Majesty's and you were pitied....</span>, <span class=\"green\">The prince</span>, <span class=\"red\">What would you have me do?</span>, <span class=\"red\">You know I did all\n",
      "a father could for their education, and they have both turned out\n",
      "fools. Hippolyte is at least a quiet fool, but Anatole is an active\n",
      "one. That is the only difference between them.</span>, <span class=\"red\">And why are children born to such men as you? If you were not a\n",
      "father there would be nothing I could reproach you with,</span>, <span class=\"green\">Anna\n",
      "Pavlovna</span>, <span class=\"red\">I am your faithful slave and to you alone I can confess that my\n",
      "children are the bane of my life. It is the cross I have to bear. That\n",
      "is how I explain it to myself. It can't be helped!</span>, <span class=\"green\">Anna Pavlovna</span>]\n"
     ]
    }
   ],
   "source": [
    "allText = bs.find_all('span', {'class':{'green', 'red'}})\n",
    "print([text for text in allText])"
   ]
  },
  {
   "cell_type": "code",
   "execution_count": 15,
   "metadata": {},
   "outputs": [
    {
     "name": "stdout",
     "output_type": "stream",
     "text": [
      "\n",
      "\n",
      "<tr><th>\n",
      "Item Title\n",
      "</th><th>\n",
      "Description\n",
      "</th><th>\n",
      "Cost\n",
      "</th><th>\n",
      "Image\n",
      "</th></tr>\n",
      "\n",
      "\n",
      "<tr class=\"gift\" id=\"gift1\"><td>\n",
      "Vegetable Basket\n",
      "</td><td>\n",
      "This vegetable basket is the perfect gift for your health conscious (or overweight) friends!\n",
      "<span class=\"excitingNote\">Now with super-colorful bell peppers!</span>\n",
      "</td><td>\n",
      "$15.00\n",
      "</td><td>\n",
      "<img src=\"../img/gifts/img1.jpg\"/>\n",
      "</td></tr>\n",
      "\n",
      "\n",
      "<tr class=\"gift\" id=\"gift2\"><td>\n",
      "Russian Nesting Dolls\n",
      "</td><td>\n",
      "Hand-painted by trained monkeys, these exquisite dolls are priceless! And by \"priceless,\" we mean \"extremely expensive\"! <span class=\"excitingNote\">8 entire dolls per set! Octuple the presents!</span>\n",
      "</td><td>\n",
      "$10,000.52\n",
      "</td><td>\n",
      "<img src=\"../img/gifts/img2.jpg\"/>\n",
      "</td></tr>\n",
      "\n",
      "\n",
      "<tr class=\"gift\" id=\"gift3\"><td>\n",
      "Fish Painting\n",
      "</td><td>\n",
      "If something seems fishy about this painting, it's because it's a fish! <span class=\"excitingNote\">Also hand-painted by trained monkeys!</span>\n",
      "</td><td>\n",
      "$10,005.00\n",
      "</td><td>\n",
      "<img src=\"../img/gifts/img3.jpg\"/>\n",
      "</td></tr>\n",
      "\n",
      "\n",
      "<tr class=\"gift\" id=\"gift4\"><td>\n",
      "Dead Parrot\n",
      "</td><td>\n",
      "This is an ex-parrot! <span class=\"excitingNote\">Or maybe he's only resting?</span>\n",
      "</td><td>\n",
      "$0.50\n",
      "</td><td>\n",
      "<img src=\"../img/gifts/img4.jpg\"/>\n",
      "</td></tr>\n",
      "\n",
      "\n",
      "<tr class=\"gift\" id=\"gift5\"><td>\n",
      "Mystery Box\n",
      "</td><td>\n",
      "If you love suprises, this mystery box is for you! Do not place on light-colored surfaces. May cause oil staining. <span class=\"excitingNote\">Keep your friends guessing!</span>\n",
      "</td><td>\n",
      "$1.50\n",
      "</td><td>\n",
      "<img src=\"../img/gifts/img6.jpg\"/>\n",
      "</td></tr>\n",
      "\n",
      "\n"
     ]
    }
   ],
   "source": [
    "from urllib.request import urlopen\n",
    "from bs4 import BeautifulSoup\n",
    "\n",
    "html = urlopen('http://www.pythonscraping.com/pages/page3.html')\n",
    "bs = BeautifulSoup(html, 'html.parser')\n",
    "\n",
    "for child in bs.find('table',{'id':'giftList'}).children:\n",
    "    print(child)"
   ]
  },
  {
   "cell_type": "code",
   "execution_count": 27,
   "metadata": {},
   "outputs": [
    {
     "name": "stdout",
     "output_type": "stream",
     "text": [
      "\n",
      "\n",
      "<tr class=\"gift\" id=\"gift1\"><td>\n",
      "Vegetable Basket\n",
      "</td><td>\n",
      "This vegetable basket is the perfect gift for your health conscious (or overweight) friends!\n",
      "<span class=\"excitingNote\">Now with super-colorful bell peppers!</span>\n",
      "</td><td>\n",
      "$15.00\n",
      "</td><td>\n",
      "<img src=\"../img/gifts/img1.jpg\"/>\n",
      "</td></tr>\n",
      "\n",
      "\n",
      "<tr class=\"gift\" id=\"gift2\"><td>\n",
      "Russian Nesting Dolls\n",
      "</td><td>\n",
      "Hand-painted by trained monkeys, these exquisite dolls are priceless! And by \"priceless,\" we mean \"extremely expensive\"! <span class=\"excitingNote\">8 entire dolls per set! Octuple the presents!</span>\n",
      "</td><td>\n",
      "$10,000.52\n",
      "</td><td>\n",
      "<img src=\"../img/gifts/img2.jpg\"/>\n",
      "</td></tr>\n",
      "\n",
      "\n",
      "<tr class=\"gift\" id=\"gift3\"><td>\n",
      "Fish Painting\n",
      "</td><td>\n",
      "If something seems fishy about this painting, it's because it's a fish! <span class=\"excitingNote\">Also hand-painted by trained monkeys!</span>\n",
      "</td><td>\n",
      "$10,005.00\n",
      "</td><td>\n",
      "<img src=\"../img/gifts/img3.jpg\"/>\n",
      "</td></tr>\n",
      "\n",
      "\n",
      "<tr class=\"gift\" id=\"gift4\"><td>\n",
      "Dead Parrot\n",
      "</td><td>\n",
      "This is an ex-parrot! <span class=\"excitingNote\">Or maybe he's only resting?</span>\n",
      "</td><td>\n",
      "$0.50\n",
      "</td><td>\n",
      "<img src=\"../img/gifts/img4.jpg\"/>\n",
      "</td></tr>\n",
      "\n",
      "\n",
      "<tr class=\"gift\" id=\"gift5\"><td>\n",
      "Mystery Box\n",
      "</td><td>\n",
      "If you love suprises, this mystery box is for you! Do not place on light-colored surfaces. May cause oil staining. <span class=\"excitingNote\">Keep your friends guessing!</span>\n",
      "</td><td>\n",
      "$1.50\n",
      "</td><td>\n",
      "<img src=\"../img/gifts/img6.jpg\"/>\n",
      "</td></tr>\n",
      "\n",
      "\n"
     ]
    }
   ],
   "source": [
    "for child in bs.find('table',{'id':'giftList'}).tr.next_siblings:\n",
    "    rawTextChild = child\n",
    "    print(rawTextChild)\n"
   ]
  },
  {
   "cell_type": "code",
   "execution_count": 29,
   "metadata": {},
   "outputs": [
    {
     "name": "stdout",
     "output_type": "stream",
     "text": [
      "<div class=\"pagination-cell hidden-lg-up\"><p>1 de 43</p></div>\n"
     ]
    }
   ],
   "source": [
    "baseURL = 'http://www.solimoveis.com.br/imoveis/a-venda/foz-do-iguacu' \n",
    "p = urlopen(baseURL)\n",
    "bs = BeautifulSoup(p, \"html.parser\")\n",
    "totalPaginas_raw = bs.find(\"div\", {\"class\": \"pagination-cell\"})\n",
    "#tPaginas = totalPaginas_raw.text.split()[-1:][0]\n",
    "print(totalPaginas_raw)"
   ]
  },
  {
   "cell_type": "code",
   "execution_count": 40,
   "metadata": {},
   "outputs": [
    {
     "name": "stdout",
     "output_type": "stream",
     "text": [
      "12\n",
      "http://www.solimoveis.com.br/imovel/terreno-a-venda-no-jardim-cedro-em-foz-do-iguacu/TE0399-SPU\n",
      "http://www.solimoveis.com.br/imovel/terreno-a-venda-no-loteamento-residencial-parque-da-lagoa-em-foz-do-iguacu/TE0555-SPU\n",
      "http://www.solimoveis.com.br/imovel/terreno-de-220-m-jardim-alvorada-foz-do-iguacu-a-venda-por-65000/TE0355-SPU\n",
      "http://www.solimoveis.com.br/imovel/terreno-a-venda-no-jardim-alvorada-em-foz-do-iguacu/TE0568-SPU\n",
      "http://www.solimoveis.com.br/imovel/terreno-a-venda-no-loteamento-jardim-nova-andradina-em-foz-do-iguacu/TE0535-SPU\n",
      "http://www.solimoveis.com.br/imovel/terreno-a-venda-no-loteamento-residencial-stella-maris-em-foz-do-iguacu/TE0571-SPU\n",
      "http://www.solimoveis.com.br/imovel/terreno-a-venda-no-jardim-nova-andradina-em-foz-do-iguacu/TE0492-SPU\n",
      "http://www.solimoveis.com.br/imovel/terreno-a-venda-no-jardim-porto-belo-em-foz-do-iguacu/TE0539-SPU\n",
      "http://www.solimoveis.com.br/imovel/terreno-a-venda-no-loteamento-jardim-nova-andradina-em-foz-do-iguacu/TE0564-SPU\n",
      "http://www.solimoveis.com.br/imovel/terreno-de-250-m-tres-lagoas-foz-do-iguacu-a-venda-por-82500/TE0167-SPU\n",
      "http://www.solimoveis.com.br/imovel/casa-a-venda-no-jardim-monaco-em-foz-do-iguacu/CA1033-SPU\n",
      "http://www.solimoveis.com.br/imovel/terreno-de-325-m-jardim-alvorada-foz-do-iguacu-a-venda-por-85000/TE0356-SPU\n"
     ]
    }
   ],
   "source": [
    "#tPaginas = totalPaginas_raw.text.split()[-1:][0]\n",
    "#print(totalPaginas_raw.text.split()[-1:][0])\n",
    "listaLinks = bs.findAll(\"div\",{\"class\": \"col-sm-12 col-lg-6 box-align\"})     \n",
    "print(len(listaLinks))\n",
    "for l in listaLinks:\n",
    "    for link in l.find_all('a', href=True, text=True):\n",
    "        if link.get('href') is not '':\n",
    "            print('http://www.solimoveis.com.br'+link.get('href'))"
   ]
  },
  {
   "cell_type": "code",
   "execution_count": 46,
   "metadata": {},
   "outputs": [
    {
     "name": "stdout",
     "output_type": "stream",
     "text": [
      " 2 Quartos \n",
      " 1 Banheiro \n",
      " 56 m² Área construída\n",
      " 250 m² Área do terreno\n",
      " 10 x 25  Dimensão do terreno\n"
     ]
    }
   ],
   "source": [
    "baseURL = 'https://www.solimoveis.com.br/imovel/casa-a-venda-no-jardim-monaco-em-foz-do-iguacu/CA1033-SPU' \n",
    "p = urlopen(baseURL)\n",
    "bs = BeautifulSoup(p, \"html.parser\")\n",
    "totalPaginas_raw = bs.find(\"div\", {\"class\": \"info-primary\"})\n",
    "#tPaginas = totalPaginas_raw.text.split()[-1:][0]\n",
    "infos = bs.find_all(\"div\", {\"class\": \"item-info\"})\n",
    "#print(infos)\n",
    "for i in infos:\n",
    "    print(i.get_text())"
   ]
  },
  {
   "cell_type": "code",
   "execution_count": 56,
   "metadata": {},
   "outputs": [],
   "source": [
    "import urllib.request\n",
    "\n",
    "\n",
    "baseURL = 'https://swapi.co/api/people/?format=json' \n",
    "#p = urlopen(baseURL)\n",
    "url = 'https://httpbin.org/user-agent'\n",
    "user_agent = 'Mozilla/5.0 (Macintosh; Intel Mac OS X 10_9_3) AppleWebKit/537.36 (KHTML, like Gecko) Chrome/35.0.1916.47 Safari/537.36'\n",
    "request = urllib.request.Request(baseURL,headers={'User-Agent': user_agent})\n",
    "response = urllib.request.urlopen(request)\n",
    "html = response.read()\n"
   ]
  },
  {
   "cell_type": "code",
   "execution_count": 60,
   "metadata": {},
   "outputs": [
    {
     "name": "stdout",
     "output_type": "stream",
     "text": [
      "Luke Skywalker\n",
      "C-3PO\n",
      "R2-D2\n",
      "Darth Vader\n",
      "Leia Organa\n",
      "Owen Lars\n",
      "Beru Whitesun lars\n",
      "R5-D4\n",
      "Biggs Darklighter\n",
      "Obi-Wan Kenobi\n"
     ]
    }
   ],
   "source": [
    "import json\n",
    "starwars = json.loads(html)\n",
    "for nome in starwars['results']:\n",
    "    print(nome['name'])"
   ]
  },
  {
   "cell_type": "code",
   "execution_count": 61,
   "metadata": {},
   "outputs": [
    {
     "data": {
      "text/html": [
       "<div>\n",
       "<style scoped>\n",
       "    .dataframe tbody tr th:only-of-type {\n",
       "        vertical-align: middle;\n",
       "    }\n",
       "\n",
       "    .dataframe tbody tr th {\n",
       "        vertical-align: top;\n",
       "    }\n",
       "\n",
       "    .dataframe thead th {\n",
       "        text-align: right;\n",
       "    }\n",
       "</style>\n",
       "<table border=\"1\" class=\"dataframe\">\n",
       "  <thead>\n",
       "    <tr style=\"text-align: right;\">\n",
       "      <th></th>\n",
       "      <th>latitude</th>\n",
       "      <th>longitude</th>\n",
       "      <th>brightness</th>\n",
       "      <th>scan</th>\n",
       "      <th>track</th>\n",
       "      <th>acq_date</th>\n",
       "      <th>acq_time</th>\n",
       "      <th>satellite</th>\n",
       "      <th>confidence</th>\n",
       "      <th>version</th>\n",
       "      <th>bright_t31</th>\n",
       "      <th>frp</th>\n",
       "      <th>daynight</th>\n",
       "    </tr>\n",
       "  </thead>\n",
       "  <tbody>\n",
       "    <tr>\n",
       "      <th>0</th>\n",
       "      <td>-9.990</td>\n",
       "      <td>-38.148</td>\n",
       "      <td>304.5</td>\n",
       "      <td>3.5</td>\n",
       "      <td>1.8</td>\n",
       "      <td>2019-11-08</td>\n",
       "      <td>30</td>\n",
       "      <td>T</td>\n",
       "      <td>61</td>\n",
       "      <td>6.0NRT</td>\n",
       "      <td>292.4</td>\n",
       "      <td>31.9</td>\n",
       "      <td>N</td>\n",
       "    </tr>\n",
       "    <tr>\n",
       "      <th>1</th>\n",
       "      <td>-9.576</td>\n",
       "      <td>-35.928</td>\n",
       "      <td>336.8</td>\n",
       "      <td>2.3</td>\n",
       "      <td>1.5</td>\n",
       "      <td>2019-11-08</td>\n",
       "      <td>30</td>\n",
       "      <td>T</td>\n",
       "      <td>100</td>\n",
       "      <td>6.0NRT</td>\n",
       "      <td>293.0</td>\n",
       "      <td>129.8</td>\n",
       "      <td>N</td>\n",
       "    </tr>\n",
       "    <tr>\n",
       "      <th>2</th>\n",
       "      <td>-9.577</td>\n",
       "      <td>-35.914</td>\n",
       "      <td>310.9</td>\n",
       "      <td>2.3</td>\n",
       "      <td>1.5</td>\n",
       "      <td>2019-11-08</td>\n",
       "      <td>30</td>\n",
       "      <td>T</td>\n",
       "      <td>81</td>\n",
       "      <td>6.0NRT</td>\n",
       "      <td>292.6</td>\n",
       "      <td>31.7</td>\n",
       "      <td>N</td>\n",
       "    </tr>\n",
       "    <tr>\n",
       "      <th>3</th>\n",
       "      <td>-9.580</td>\n",
       "      <td>-35.934</td>\n",
       "      <td>322.4</td>\n",
       "      <td>2.3</td>\n",
       "      <td>1.5</td>\n",
       "      <td>2019-11-08</td>\n",
       "      <td>30</td>\n",
       "      <td>T</td>\n",
       "      <td>100</td>\n",
       "      <td>6.0NRT</td>\n",
       "      <td>292.4</td>\n",
       "      <td>65.4</td>\n",
       "      <td>N</td>\n",
       "    </tr>\n",
       "    <tr>\n",
       "      <th>4</th>\n",
       "      <td>-9.564</td>\n",
       "      <td>-35.915</td>\n",
       "      <td>303.8</td>\n",
       "      <td>2.3</td>\n",
       "      <td>1.5</td>\n",
       "      <td>2019-11-08</td>\n",
       "      <td>30</td>\n",
       "      <td>T</td>\n",
       "      <td>57</td>\n",
       "      <td>6.0NRT</td>\n",
       "      <td>292.4</td>\n",
       "      <td>16.7</td>\n",
       "      <td>N</td>\n",
       "    </tr>\n",
       "  </tbody>\n",
       "</table>\n",
       "</div>"
      ],
      "text/plain": [
       "   latitude  longitude  brightness  scan  track    acq_date  acq_time  \\\n",
       "0    -9.990    -38.148       304.5   3.5    1.8  2019-11-08        30   \n",
       "1    -9.576    -35.928       336.8   2.3    1.5  2019-11-08        30   \n",
       "2    -9.577    -35.914       310.9   2.3    1.5  2019-11-08        30   \n",
       "3    -9.580    -35.934       322.4   2.3    1.5  2019-11-08        30   \n",
       "4    -9.564    -35.915       303.8   2.3    1.5  2019-11-08        30   \n",
       "\n",
       "  satellite  confidence version  bright_t31    frp daynight  \n",
       "0         T          61  6.0NRT       292.4   31.9        N  \n",
       "1         T         100  6.0NRT       293.0  129.8        N  \n",
       "2         T          81  6.0NRT       292.6   31.7        N  \n",
       "3         T         100  6.0NRT       292.4   65.4        N  \n",
       "4         T          57  6.0NRT       292.4   16.7        N  "
      ]
     },
     "execution_count": 61,
     "metadata": {},
     "output_type": "execute_result"
    }
   ],
   "source": [
    "import pandas as pd\n",
    "data = pd.read_csv('https://firms.modaps.eosdis.nasa.gov/active_fire/c6/text/MODIS_C6_South_America_24h.csv')\n",
    "\n",
    "data.head()"
   ]
  },
  {
   "cell_type": "code",
   "execution_count": 62,
   "metadata": {},
   "outputs": [
    {
     "name": "stdout",
     "output_type": "stream",
     "text": [
      "http://www.camara.gov.br/cota-parlamentar/documentos/publ/2958/2019/1672444.pdf\n",
      "http://www.camara.gov.br/cota-parlamentar/documentos/publ/2933/2019/1672528.pdf\n",
      "http://www.camara.gov.br/cota-parlamentar/documentos/publ/2880/2019/1672151.pdf\n",
      "http://www.camara.gov.br/cota-parlamentar/documentos/publ/3034/2019/1671913.pdf\n",
      "http://www.camara.gov.br/cota-parlamentar/documentos/publ/3034/2019/1671918.pdf\n",
      "http://www.camara.gov.br/cota-parlamentar/documentos/publ/3034/2019/1672303.pdf\n",
      "http://www.camara.gov.br/cota-parlamentar/documentos/publ/3298/2019/1671984.pdf\n",
      "http://www.camara.gov.br/cota-parlamentar/documentos/publ/2253/2019/1672414.pdf\n",
      "http://www.camara.gov.br/cota-parlamentar/documentos/publ/2282/2019/1672693.pdf\n",
      "http://www.camara.gov.br/cota-parlamentar/documentos/publ/2282/2019/1671897.pdf\n",
      "http://www.camara.gov.br/cota-parlamentar/documentos/publ/2385/2019/1672195.pdf\n",
      "http://www.camara.gov.br/cota-parlamentar/documentos/publ/2300/2019/1672018.pdf\n",
      "http://www.camara.gov.br/cota-parlamentar/documentos/publ/2276/2019/1672465.pdf\n",
      "http://www.camara.gov.br/cota-parlamentar/documentos/publ/2276/2019/1672459.pdf\n",
      "http://www.camara.gov.br/cota-parlamentar/documentos/publ/2265/2019/1672516.pdf\n",
      "http://www.camara.gov.br/cota-parlamentar/documentos/publ/2265/2019/1672521.pdf\n",
      "http://www.camara.gov.br/cota-parlamentar/documentos/publ/2356/2019/1672064.pdf\n",
      "http://www.camara.gov.br/cota-parlamentar/documentos/publ/2356/2019/1675692.pdf\n",
      "http://www.camara.gov.br/cota-parlamentar/documentos/publ/2238/2019/1672670.pdf\n",
      "http://www.camara.gov.br/cota-parlamentar/documentos/publ/2238/2019/1675726.pdf\n",
      "http://www.camara.gov.br/cota-parlamentar/documentos/publ/2238/2019/1675728.pdf\n",
      "http://www.camara.gov.br/cota-parlamentar/documentos/publ/2238/2019/1675727.pdf\n",
      "http://www.camara.gov.br/cota-parlamentar/documentos/publ/2340/2019/1672522.pdf\n",
      "http://www.camara.gov.br/cota-parlamentar/documentos/publ/2407/2019/1672569.pdf\n",
      "http://www.camara.gov.br/cota-parlamentar/documentos/publ/2407/2019/1672520.pdf\n",
      "http://www.camara.gov.br/cota-parlamentar/documentos/publ/2377/2019/1672653.pdf\n",
      "http://www.camara.gov.br/cota-parlamentar/documentos/publ/2377/2019/1672586.pdf\n",
      "http://www.camara.gov.br/cota-parlamentar/documentos/publ/2377/2019/1672566.pdf\n",
      "http://www.camara.gov.br/cota-parlamentar/documentos/publ/2241/2019/1675729.pdf\n",
      "http://www.camara.gov.br/cota-parlamentar/documentos/publ/2402/2019/1672562.pdf\n"
     ]
    }
   ],
   "source": [
    "import urllib.request\n",
    "\n",
    "\n",
    "baseURL = 'https://jarbas.serenata.ai/api/chamber_of_deputies/reimbursement/?offset=' \n",
    "user_agent = 'Mozilla/5.0 (Macintosh; Intel Mac OS X 10_9_3) AppleWebKit/537.36 (KHTML, like Gecko) Chrome/35.0.1916.47 Safari/537.36'\n",
    "\n",
    "for k in range(30000, 30030, 7):\n",
    "    request = urllib.request.Request(baseURL+str(k),headers={'User-Agent': user_agent})\n",
    "    response = urllib.request.urlopen(request)\n",
    "    html = response.read()\n",
    "    gastos = json.loads(html)\n",
    "    for item in gastos['results']:\n",
    "        if int(item['document_id']) > 0:\n",
    "           print(item['receipt']['url'])\n",
    "    \n",
    "\n",
    "\n",
    "\n"
   ]
  }
 ],
 "metadata": {
  "kernelspec": {
   "display_name": "Python 3",
   "language": "python",
   "name": "python3"
  },
  "language_info": {
   "codemirror_mode": {
    "name": "ipython",
    "version": 3
   },
   "file_extension": ".py",
   "mimetype": "text/x-python",
   "name": "python",
   "nbconvert_exporter": "python",
   "pygments_lexer": "ipython3",
   "version": "3.7.5"
  }
 },
 "nbformat": 4,
 "nbformat_minor": 4
}
