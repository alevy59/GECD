{
 "cells": [
  {
   "cell_type": "code",
   "execution_count": 2,
   "metadata": {},
   "outputs": [],
   "source": [
    "import pandas as pd\n",
    "import numpy as np\n",
    "from matplotlib import pyplot as plt"
   ]
  },
  {
   "cell_type": "code",
   "execution_count": 19,
   "metadata": {},
   "outputs": [],
   "source": [
    "contracheque_raw = pd.read_csv(\"contracheque.csv\")\n",
    "# ajuste de formatação\n",
    "pd.options.display.float_format = '{:.2f}'.format"
   ]
  },
  {
   "cell_type": "code",
   "execution_count": 5,
   "metadata": {},
   "outputs": [
    {
     "data": {
      "text/html": [
       "<div>\n",
       "<style scoped>\n",
       "    .dataframe tbody tr th:only-of-type {\n",
       "        vertical-align: middle;\n",
       "    }\n",
       "\n",
       "    .dataframe tbody tr th {\n",
       "        vertical-align: top;\n",
       "    }\n",
       "\n",
       "    .dataframe thead th {\n",
       "        text-align: right;\n",
       "    }\n",
       "</style>\n",
       "<table border=\"1\" class=\"dataframe\">\n",
       "  <thead>\n",
       "    <tr style=\"text-align: right;\">\n",
       "      <th></th>\n",
       "      <th>cpf</th>\n",
       "      <th>nome</th>\n",
       "      <th>cargo</th>\n",
       "      <th>lotacao</th>\n",
       "      <th>subsidio</th>\n",
       "      <th>direitos_pessoais</th>\n",
       "      <th>indenizacoes</th>\n",
       "      <th>direitos_eventuais</th>\n",
       "      <th>total_de_rendimentos</th>\n",
       "      <th>previdencia_publica</th>\n",
       "      <th>...</th>\n",
       "      <th>retencao_por_teto_constitucional</th>\n",
       "      <th>total_de_descontos</th>\n",
       "      <th>rendimento_liquido</th>\n",
       "      <th>remuneracao_do_orgao_de_origem</th>\n",
       "      <th>diarias</th>\n",
       "      <th>url</th>\n",
       "      <th>tribunal</th>\n",
       "      <th>orgao</th>\n",
       "      <th>data_de_publicacao</th>\n",
       "      <th>mesano_de_referencia</th>\n",
       "    </tr>\n",
       "  </thead>\n",
       "  <tbody>\n",
       "    <tr>\n",
       "      <th>0</th>\n",
       "      <td>NaN</td>\n",
       "      <td>Aldir Guimarães Passarinho Junior</td>\n",
       "      <td>Ministro do Superior Tribunal de Justiça</td>\n",
       "      <td>Superior Tribunal de Justiça</td>\n",
       "      <td>32074.85</td>\n",
       "      <td>0.00</td>\n",
       "      <td>0.0</td>\n",
       "      <td>0.0</td>\n",
       "      <td>32074.85</td>\n",
       "      <td>2907.19</td>\n",
       "      <td>...</td>\n",
       "      <td>0.0</td>\n",
       "      <td>9535.34</td>\n",
       "      <td>22539.51</td>\n",
       "      <td>0.0</td>\n",
       "      <td>0.0</td>\n",
       "      <td>http://www.cnj.jus.br/files/conteudo/arquivo/2...</td>\n",
       "      <td>Superior Tribunal de Justiça</td>\n",
       "      <td>Superior Tribunal de Justiça</td>\n",
       "      <td>2018-04-24</td>\n",
       "      <td>2018-4-01</td>\n",
       "    </tr>\n",
       "    <tr>\n",
       "      <th>1</th>\n",
       "      <td>NaN</td>\n",
       "      <td>Antonio Carlos Ferreira</td>\n",
       "      <td>Ministro do Superior Tribunal de Justiça</td>\n",
       "      <td>Gabinete Ministro Antonio Carlos Ferreira</td>\n",
       "      <td>32074.85</td>\n",
       "      <td>3528.23</td>\n",
       "      <td>884.0</td>\n",
       "      <td>0.0</td>\n",
       "      <td>36487.08</td>\n",
       "      <td>3528.23</td>\n",
       "      <td>...</td>\n",
       "      <td>0.0</td>\n",
       "      <td>10509.19</td>\n",
       "      <td>25977.89</td>\n",
       "      <td>0.0</td>\n",
       "      <td>0.0</td>\n",
       "      <td>http://www.cnj.jus.br/files/conteudo/arquivo/2...</td>\n",
       "      <td>Superior Tribunal de Justiça</td>\n",
       "      <td>Superior Tribunal de Justiça</td>\n",
       "      <td>2018-04-24</td>\n",
       "      <td>2018-4-01</td>\n",
       "    </tr>\n",
       "  </tbody>\n",
       "</table>\n",
       "<p>2 rows × 22 columns</p>\n",
       "</div>"
      ],
      "text/plain": [
       "   cpf                               nome  \\\n",
       "0  NaN  Aldir Guimarães Passarinho Junior   \n",
       "1  NaN            Antonio Carlos Ferreira   \n",
       "\n",
       "                                      cargo  \\\n",
       "0  Ministro do Superior Tribunal de Justiça   \n",
       "1  Ministro do Superior Tribunal de Justiça   \n",
       "\n",
       "                                     lotacao  subsidio  direitos_pessoais  \\\n",
       "0               Superior Tribunal de Justiça  32074.85               0.00   \n",
       "1  Gabinete Ministro Antonio Carlos Ferreira  32074.85            3528.23   \n",
       "\n",
       "   indenizacoes  direitos_eventuais  total_de_rendimentos  \\\n",
       "0           0.0                 0.0              32074.85   \n",
       "1         884.0                 0.0              36487.08   \n",
       "\n",
       "   previdencia_publica  ...  retencao_por_teto_constitucional  \\\n",
       "0              2907.19  ...                               0.0   \n",
       "1              3528.23  ...                               0.0   \n",
       "\n",
       "   total_de_descontos  rendimento_liquido  remuneracao_do_orgao_de_origem  \\\n",
       "0             9535.34            22539.51                             0.0   \n",
       "1            10509.19            25977.89                             0.0   \n",
       "\n",
       "   diarias                                                url  \\\n",
       "0      0.0  http://www.cnj.jus.br/files/conteudo/arquivo/2...   \n",
       "1      0.0  http://www.cnj.jus.br/files/conteudo/arquivo/2...   \n",
       "\n",
       "                       tribunal                         orgao  \\\n",
       "0  Superior Tribunal de Justiça  Superior Tribunal de Justiça   \n",
       "1  Superior Tribunal de Justiça  Superior Tribunal de Justiça   \n",
       "\n",
       "  data_de_publicacao mesano_de_referencia  \n",
       "0         2018-04-24            2018-4-01  \n",
       "1         2018-04-24            2018-4-01  \n",
       "\n",
       "[2 rows x 22 columns]"
      ]
     },
     "execution_count": 5,
     "metadata": {},
     "output_type": "execute_result"
    }
   ],
   "source": [
    "contracheque_raw.head(2)"
   ]
  },
  {
   "cell_type": "code",
   "execution_count": 14,
   "metadata": {},
   "outputs": [
    {
     "data": {
      "text/plain": [
       "['cpf',\n",
       " 'nome',\n",
       " 'cargo',\n",
       " 'lotacao',\n",
       " 'subsidio',\n",
       " 'direitos_pessoais',\n",
       " 'indenizacoes',\n",
       " 'direitos_eventuais',\n",
       " 'total_de_rendimentos',\n",
       " 'previdencia_publica',\n",
       " 'imposto_de_renda',\n",
       " 'descontos_diversos',\n",
       " 'retencao_por_teto_constitucional',\n",
       " 'total_de_descontos',\n",
       " 'rendimento_liquido',\n",
       " 'remuneracao_do_orgao_de_origem',\n",
       " 'diarias',\n",
       " 'url',\n",
       " 'tribunal',\n",
       " 'orgao',\n",
       " 'data_de_publicacao',\n",
       " 'mesano_de_referencia']"
      ]
     },
     "execution_count": 14,
     "metadata": {},
     "output_type": "execute_result"
    }
   ],
   "source": [
    "CCprep = contracheque_raw.copy()\n",
    "list(CCprep.columns.values)"
   ]
  },
  {
   "cell_type": "code",
   "execution_count": 17,
   "metadata": {},
   "outputs": [],
   "source": [
    "CCfiltrado=CCprep.drop(columns=['cpf',\n",
    " 'subsidio',\n",
    " 'direitos_pessoais',\n",
    " 'indenizacoes',\n",
    " 'direitos_eventuais',\n",
    " 'previdencia_publica',\n",
    " 'imposto_de_renda',\n",
    " 'descontos_diversos',\n",
    " 'retencao_por_teto_constitucional',\n",
    " 'total_de_descontos',\n",
    " 'remuneracao_do_orgao_de_origem',\n",
    " 'diarias',\n",
    " 'url'])"
   ]
  },
  {
   "cell_type": "code",
   "execution_count": 20,
   "metadata": {},
   "outputs": [
    {
     "data": {
      "text/html": [
       "<div>\n",
       "<style scoped>\n",
       "    .dataframe tbody tr th:only-of-type {\n",
       "        vertical-align: middle;\n",
       "    }\n",
       "\n",
       "    .dataframe tbody tr th {\n",
       "        vertical-align: top;\n",
       "    }\n",
       "\n",
       "    .dataframe thead th {\n",
       "        text-align: right;\n",
       "    }\n",
       "</style>\n",
       "<table border=\"1\" class=\"dataframe\">\n",
       "  <thead>\n",
       "    <tr style=\"text-align: right;\">\n",
       "      <th></th>\n",
       "      <th>total_de_rendimentos</th>\n",
       "      <th>rendimento_liquido</th>\n",
       "    </tr>\n",
       "  </thead>\n",
       "  <tbody>\n",
       "    <tr>\n",
       "      <th>count</th>\n",
       "      <td>160338.00</td>\n",
       "      <td>160334.00</td>\n",
       "    </tr>\n",
       "    <tr>\n",
       "      <th>mean</th>\n",
       "      <td>40931.85</td>\n",
       "      <td>30011.04</td>\n",
       "    </tr>\n",
       "    <tr>\n",
       "      <th>std</th>\n",
       "      <td>33049.63</td>\n",
       "      <td>27665.61</td>\n",
       "    </tr>\n",
       "    <tr>\n",
       "      <th>min</th>\n",
       "      <td>-34541.95</td>\n",
       "      <td>-34541.95</td>\n",
       "    </tr>\n",
       "    <tr>\n",
       "      <th>25%</th>\n",
       "      <td>30471.10</td>\n",
       "      <td>20213.86</td>\n",
       "    </tr>\n",
       "    <tr>\n",
       "      <th>50%</th>\n",
       "      <td>38192.28</td>\n",
       "      <td>27270.21</td>\n",
       "    </tr>\n",
       "    <tr>\n",
       "      <th>75%</th>\n",
       "      <td>52344.58</td>\n",
       "      <td>38138.52</td>\n",
       "    </tr>\n",
       "    <tr>\n",
       "      <th>max</th>\n",
       "      <td>8230004.01</td>\n",
       "      <td>7267671.81</td>\n",
       "    </tr>\n",
       "  </tbody>\n",
       "</table>\n",
       "</div>"
      ],
      "text/plain": [
       "       total_de_rendimentos  rendimento_liquido\n",
       "count             160338.00           160334.00\n",
       "mean               40931.85            30011.04\n",
       "std                33049.63            27665.61\n",
       "min               -34541.95           -34541.95\n",
       "25%                30471.10            20213.86\n",
       "50%                38192.28            27270.21\n",
       "75%                52344.58            38138.52\n",
       "max              8230004.01          7267671.81"
      ]
     },
     "execution_count": 20,
     "metadata": {},
     "output_type": "execute_result"
    }
   ],
   "source": [
    "CCfiltrado.describe()"
   ]
  },
  {
   "cell_type": "code",
   "execution_count": 21,
   "metadata": {},
   "outputs": [
    {
     "data": {
      "image/png": "[encoded data removed]",
      "text/plain": [
       "<Figure size 432x288 with 1 Axes>"
      ]
     },
     "metadata": {
      "needs_background": "light"
     },
     "output_type": "display_data"
    }
   ],
   "source": [
    "plot = CCfiltrado.plot()\n"
   ]
  }
 ],
 "metadata": {
  "kernelspec": {
   "display_name": "Python 3",
   "language": "python",
   "name": "python3"
  },
  "language_info": {
   "codemirror_mode": {
    "name": "ipython",
    "version": 3
   },
   "file_extension": ".py",
   "mimetype": "text/x-python",
   "name": "python",
   "nbconvert_exporter": "python",
   "pygments_lexer": "ipython3",
   "version": "3.7.4"
  }
 },
 "nbformat": 4,
 "nbformat_minor": 4
}
