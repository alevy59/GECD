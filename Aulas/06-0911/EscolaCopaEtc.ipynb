{
 "cells": [
  {
   "cell_type": "code",
   "execution_count": 2,
   "metadata": {},
   "outputs": [
    {
     "name": "stdout",
     "output_type": "stream",
     "text": [
      "France 4 x Korea Republic 0\n",
      "Germany 1 x China PR 0\n",
      "Spain 3 x South Africa 1\n",
      "Norway 3 x Nigeria 0\n",
      "Brazil 3 x Jamaica 0\n",
      "England 2 x Scotland 1\n",
      "Australia 1 x Italy 2\n",
      "Argentina 0 x Japan 0\n",
      "Canada 1 x Cameroon 0\n",
      "New Zealand 0 x Netherlands 1\n",
      "Chile 0 x Sweden 2\n",
      "USA 13 x Thailand 0\n",
      "Nigeria 2 x Korea Republic 0\n",
      "Germany 1 x Spain 0\n",
      "France 2 x Norway 1\n",
      "Australia 3 x Brazil 2\n",
      "South Africa 0 x China PR 1\n",
      "Japan 2 x Scotland 1\n",
      "Jamaica 0 x Italy 5\n",
      "England 1 x Argentina 0\n",
      "Netherlands 3 x Cameroon 1\n",
      "Canada 2 x New Zealand 0\n",
      "Sweden 5 x Thailand 1\n",
      "USA 3 x Chile 0\n",
      "China PR 0 x Spain 0\n",
      "South Africa 0 x Germany 4\n",
      "Nigeria 0 x France 1\n",
      "Korea Republic 1 x Norway 2\n",
      "Italy 0 x Brazil 1\n",
      "Jamaica 1 x Australia 4\n",
      "Japan 0 x England 2\n",
      "Scotland 3 x Argentina 3\n",
      "Cameroon 2 x New Zealand 1\n",
      "Netherlands 2 x Canada 1\n",
      "Thailand 0 x Chile 2\n",
      "Sweden 0 x USA 2\n",
      "Germany 3 x Nigeria 0\n",
      "Norway 1 x Australia 1\n",
      "England 3 x Cameroon 0\n",
      "France 2 x Brazil 1\n",
      "Spain 1 x USA 2\n",
      "Sweden 1 x Canada 0\n",
      "Italy 2 x China PR 0\n",
      "Netherlands 2 x Japan 1\n",
      "Norway 0 x England 3\n",
      "France 1 x USA 2\n",
      "Italy 0 x Netherlands 2\n",
      "Germany 1 x Sweden 2\n",
      "England 1 x USA 2\n",
      "Netherlands 1 x Sweden 0\n",
      "England 1 x Sweden 2\n",
      "USA 2 x Netherlands 0\n"
     ]
    }
   ],
   "source": [
    "from urllib.request import urlopen\n",
    "import json\n",
    "html = urlopen('http://worldcup.sfg.io/matches')\n",
    "jogos = json.load(html) \n",
    "for jogo in jogos:\n",
    "    if jogo['status'] in ('completed', 'in progress'):\n",
    "        print (jogo['home_team']['country'], jogo['home_team']['goals'], 'x',\n",
    "               jogo['away_team']['country'], jogo['away_team']['goals'])"
   ]
  },
  {
   "cell_type": "code",
   "execution_count": null,
   "metadata": {},
   "outputs": [],
   "source": [
    "import urllib.request\n",
    "url = 'http://www.portaltransparencia.gov.br/copa2014/api/rest/empreendimento'\n",
    "resp = urllib.request.urlopen(url).read().decode('utf-8')\n",
    "total = 0\n",
    "j = 0\n",
    "while True:\n",
    "  abre = '<valorTotalPrevisto>'\n",
    "  fecha = '</valorTotalPrevisto>'\n",
    "  j = resp.find(abre, j)\n",
    "  if j == -1:\n",
    "    break\n",
    "  k = resp.find(fecha, j)\n",
    "  print (resp[j+len(abre):k])\n",
    "  total = total + float (resp[j+len(abre):k])\n",
    "  j = k + len(fecha)\n",
    "print ('R$ %.2f' %total)"
   ]
  },
  {
   "cell_type": "code",
   "execution_count": 11,
   "metadata": {},
   "outputs": [
    {
     "name": "stdout",
     "output_type": "stream",
     "text": [
      "Número de Escolas em funcionamento sem energia, água e esgoto: 3\n"
     ]
    }
   ],
   "source": [
    "import urllib.request\n",
    "import json\n",
    "url = 'http://educacao.dadosabertosbr.com/api/escolas/buscaavancada?situacaoFuncionamento=1&energiaInexistente=on&aguaInexistente=on&esgotoInexistente=on&estado=PR'\n",
    "resp = urllib.request.urlopen(url).read()\n",
    "resp = json.loads(resp.decode('utf-8'))\n",
    "print ('Número de Escolas em funcionamento sem energia, água e esgoto:', resp[0])"
   ]
  },
  {
   "cell_type": "code",
   "execution_count": 12,
   "metadata": {},
   "outputs": [
    {
     "name": "stdout",
     "output_type": "stream",
     "text": [
      "BAIRRO DOS MENDES E R M EF 41036026\n",
      "CANDIDO DE ABREU PR Sul\n",
      "\n",
      "IMBUIA E R M EF 41036280\n",
      "CANDIDO DE ABREU PR Sul\n",
      "\n",
      "LUMEN 41146514\n",
      "CURITIBA PR Sul\n",
      "\n"
     ]
    }
   ],
   "source": [
    "total = dict()\n",
    "for x in resp[1]:\n",
    "#      if x['regiao'] not in total:\n",
    "#            total[x['regiao']] = 1\n",
    "#      else:\n",
    "#            total[x['regiao']] += 1\n",
    "      print (x['nome'], x['cod'])\n",
    "      print (x['cidade'], x['estado'], x['regiao'])\n",
    "      print ()\n",
    "#print(total) \n",
    "#print(len(resp[1]))"
   ]
  }
 ],
 "metadata": {
  "kernelspec": {
   "display_name": "Python 3",
   "language": "python",
   "name": "python3"
  },
  "language_info": {
   "codemirror_mode": {
    "name": "ipython",
    "version": 3
   },
   "file_extension": ".py",
   "mimetype": "text/x-python",
   "name": "python",
   "nbconvert_exporter": "python",
   "pygments_lexer": "ipython3",
   "version": "3.7.5"
  }
 },
 "nbformat": 4,
 "nbformat_minor": 4
}
